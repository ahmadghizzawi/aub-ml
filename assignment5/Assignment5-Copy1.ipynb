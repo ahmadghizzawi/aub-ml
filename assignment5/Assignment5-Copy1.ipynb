{
 "cells": [
  {
   "cell_type": "markdown",
   "metadata": {},
   "source": [
    "# Assignment 5"
   ]
  },
  {
   "cell_type": "markdown",
   "metadata": {},
   "source": [
    "In this assignment, you will build a multi-class neural network classifier for text classification. You will first need to import the libraries. Then you will need to pre-process your data by removing stop words and stemming. After cleaning the data, you will download a pretrained word embedding and use the embedding to give each word a vector. The vectors will be the features of your classifier. You will split your data into training (80%) and validation (20%). Then, you will train your neural network and find the best model using random search.\n",
    "\n",
    "N.B: You will have to use tensorflow (version 1.4) library.\n",
    "\n",
    "(Hint: check tf.keras)"
   ]
  },
  {
   "cell_type": "markdown",
   "metadata": {},
   "source": [
    "## Import Libraries"
   ]
  },
  {
   "cell_type": "code",
   "execution_count": 5,
   "metadata": {},
   "outputs": [],
   "source": [
    "import pandas as pd\n",
    "import numpy as np\n",
    "import matplotlib.pyplot as plt\n",
    "import string\n",
    "import re\n",
    "import nltk\n",
    "from nltk.corpus import stopwords\n",
    "from nltk.tokenize import word_tokenize\n",
    "from nltk.stem.snowball import SnowballStemmer\n",
    "import pickle\n",
    "import itertools\n",
    "from keras.layers import Embedding"
   ]
  },
  {
   "cell_type": "markdown",
   "metadata": {},
   "source": [
    "## Load Data"
   ]
  },
  {
   "cell_type": "code",
   "execution_count": 3,
   "metadata": {
    "collapsed": true
   },
   "outputs": [],
   "source": [
    "'''implement your code'''\n",
    "dataset = pd.read_csv('Tweets.csv', encoding ='latin1').values\n",
    "X, y = dataset[:, 1], dataset[:, 0]"
   ]
  },
  {
   "cell_type": "markdown",
   "metadata": {},
   "source": [
    "## Clean Data"
   ]
  },
  {
   "cell_type": "markdown",
   "metadata": {},
   "source": [
    " Pre-process your data by removing stop words and perform stemming."
   ]
  },
  {
   "cell_type": "code",
   "execution_count": 4,
   "metadata": {},
   "outputs": [
    {
     "name": "stdout",
     "output_type": "stream",
     "text": [
      "['said' 'plus ad commerci experi tacki'\n",
      " 'today must mean need take anoth trip' ...,\n",
      " 'pleas bring american airlin blackberry10'\n",
      " 'money chang flight answer phone suggest make commit'\n",
      " '8 ppl need 2 know mani seat next flight plz put us standbi 4 peopl next flight']\n"
     ]
    }
   ],
   "source": [
    "# Remove urls, handles, and \n",
    "def remove_urls_handles_punc(X):\n",
    "    new_tweets = []\n",
    "    for tweet in X:\n",
    "        new_tweet = ' '.join(re.sub(\"(@[A-Za-z0-9]+)|([^0-9A-Za-z \\t])|(\\w+:\\/\\/\\S+)\",\" \", tweet).split())\n",
    "        new_tweets.append(new_tweet)\n",
    "    return new_tweets\n",
    "\n",
    "def tokenize(X):\n",
    "    return [word_tokenize(document) for document in X]\n",
    "\n",
    "def remove_punc_stopwords_stem(X):\n",
    "     #see documentation here: http://docs.python.org/2/library/string.html\n",
    "    regex = re.compile('[%s]' % re.escape(string.punctuation))\n",
    "    X_cleaned_stemmed = []\n",
    "    \n",
    "    for tweet in X:\n",
    "        new_tweet = []\n",
    "        for token in tweet: \n",
    "            new_token = regex.sub(u'', token)\n",
    "            ## check if token is neither a punctutation or stopword.\n",
    "            if not new_token == u'' and not token.lower() in stopwords.words('english'):\n",
    "                new_token = SnowballStemmer(\"english\").stem(new_token)\n",
    "                new_tweet.append(new_token)\n",
    "        X_cleaned_stemmed.append(new_tweet)\n",
    "    return X_cleaned_stemmed\n",
    "\n",
    "def words_list_to_string(X):\n",
    "    return np.array([[' '.join(word for word in document)] for document in X]).flatten()\n",
    "\n",
    "def preprocess(X):\n",
    "    X = remove_urls_handles_punc(X)\n",
    "    \n",
    "    X = tokenize(X)\n",
    "    \n",
    "    X = remove_punc_stopwords_stem(X)\n",
    "\n",
    "    X = words_list_to_string(X)\n",
    "    \n",
    "    return X\n",
    "\n",
    "X = preprocess(X)\n",
    "\n",
    "print(X)"
   ]
  },
  {
   "cell_type": "markdown",
   "metadata": {},
   "source": [
    "## Word Embedding"
   ]
  },
  {
   "cell_type": "markdown",
   "metadata": {},
   "source": [
    "Download the word embedding from this link http://nlp.stanford.edu/data/glove.twitter.27B.zip and create the embedding matrix to be used in the embedding layer. You have to use the embedding file of dimension 50."
   ]
  },
  {
   "cell_type": "code",
   "execution_count": null,
   "metadata": {
    "collapsed": true
   },
   "outputs": [],
   "source": [
    "embeddings_index = {}\n",
    "f = open(os.path.join(GLOVE_DIR, 'glove.6B.100d.txt'))\n",
    "for line in f:\n",
    "    values = line.split()\n",
    "    word = values[0]\n",
    "    coefs = np.asarray(values[1:], dtype='float32')\n",
    "    embeddings_index[word] = coefs\n",
    "f.close()\n",
    "\n",
    "print('Found %s word vectors.' % len(embeddings_index))\n",
    "\n",
    "\n",
    "embedding_layer = Embedding(len(word_index) + 1,\n",
    "                            EMBEDDING_DIM,\n",
    "                            weights=[embedding_matrix],\n",
    "                            input_length=MAX_SEQUENCE_LENGTH,\n",
    "                            trainable=False)"
   ]
  },
  {
   "cell_type": "markdown",
   "metadata": {},
   "source": [
    "## Split Data"
   ]
  },
  {
   "cell_type": "markdown",
   "metadata": {},
   "source": [
    "Split your data into training (80%) and validation (20%)."
   ]
  },
  {
   "cell_type": "code",
   "execution_count": null,
   "metadata": {
    "collapsed": true
   },
   "outputs": [],
   "source": [
    "'''implement your code'''"
   ]
  },
  {
   "cell_type": "markdown",
   "metadata": {},
   "source": [
    "## Exercise 1"
   ]
  },
  {
   "cell_type": "markdown",
   "metadata": {},
   "source": [
    "You will train a neural network for 100 epochs with a batch size of 32 without doing any hyperameters tuning.\n",
    "\n",
    "The architecture should be as follow:\n",
    "- One embedding layer ( You don't need to retrain the embeddings. You have to use the pretrained embeddings)\n",
    "- One hidden layer with 50 units\n",
    "- One output layer\n",
    "- The activation of the hidden layer is a Relu\n",
    "- The activation of the output layer is a Softmax\n",
    "- The loss function is a categorical cross-entropy funtion\n",
    "- The optimizer of this model is RMSProp"
   ]
  },
  {
   "cell_type": "markdown",
   "metadata": {},
   "source": [
    "### Create Model"
   ]
  },
  {
   "cell_type": "markdown",
   "metadata": {},
   "source": [
    "Create the above neural network architecture."
   ]
  },
  {
   "cell_type": "code",
   "execution_count": null,
   "metadata": {
    "collapsed": true
   },
   "outputs": [],
   "source": [
    "'''implement your code'''"
   ]
  },
  {
   "cell_type": "markdown",
   "metadata": {},
   "source": [
    "### Training"
   ]
  },
  {
   "cell_type": "markdown",
   "metadata": {},
   "source": [
    "Train your model on the training dataset."
   ]
  },
  {
   "cell_type": "code",
   "execution_count": null,
   "metadata": {
    "collapsed": true
   },
   "outputs": [],
   "source": [
    "'''implement your code'''"
   ]
  },
  {
   "cell_type": "markdown",
   "metadata": {},
   "source": [
    "### Testing"
   ]
  },
  {
   "cell_type": "markdown",
   "metadata": {},
   "source": [
    "Test your model on the validation and compute the F-measure and accuracy."
   ]
  },
  {
   "cell_type": "code",
   "execution_count": null,
   "metadata": {
    "collapsed": true
   },
   "outputs": [],
   "source": [
    "'''implement your code'''"
   ]
  },
  {
   "cell_type": "markdown",
   "metadata": {},
   "source": [
    "## Exercise 2"
   ]
  },
  {
   "cell_type": "markdown",
   "metadata": {},
   "source": [
    "### Random Search"
   ]
  },
  {
   "cell_type": "markdown",
   "metadata": {},
   "source": [
    "Write the random search function. You will use the random search method in exercise 3 to find the best hyperparameters."
   ]
  },
  {
   "cell_type": "code",
   "execution_count": null,
   "metadata": {
    "collapsed": true
   },
   "outputs": [],
   "source": [
    "'''implement your code'''"
   ]
  },
  {
   "cell_type": "markdown",
   "metadata": {},
   "source": [
    "## Exercise 3"
   ]
  },
  {
   "cell_type": "markdown",
   "metadata": {},
   "source": [
    "### Hyperparameters Tuning"
   ]
  },
  {
   "cell_type": "markdown",
   "metadata": {},
   "source": [
    "You will tune the hyperparameters of the above architecture using random search by validating on the validation dataset.\n",
    "\n",
    "Plot the learning curve of the best model (loss versus number\n",
    "of epochs). You should show both the training loss and the validation loss.\n",
    "\n",
    "You should also report the values of the hyperparameters of your best model and the validation accuracy and F-measure.  \n",
    "\n",
    "The hyperparameters that need to be tuned are:\n",
    "- Learning rates\n",
    "- Dropout\n",
    "- Number of hidden units\n",
    "- Mini-batch size\n",
    "- Learning rate decay\n",
    "- Number of layers ( This part should be done manually. You can't do this using random search)"
   ]
  },
  {
   "cell_type": "code",
   "execution_count": null,
   "metadata": {
    "collapsed": true
   },
   "outputs": [],
   "source": [
    "'''implement your code'''"
   ]
  },
  {
   "cell_type": "markdown",
   "metadata": {
    "collapsed": true
   },
   "source": [
    "### Save Model"
   ]
  },
  {
   "cell_type": "markdown",
   "metadata": {},
   "source": [
    "Save your best model"
   ]
  },
  {
   "cell_type": "code",
   "execution_count": null,
   "metadata": {
    "collapsed": true
   },
   "outputs": [],
   "source": [
    "'''implement your code'''"
   ]
  },
  {
   "cell_type": "markdown",
   "metadata": {},
   "source": [
    "Rename the jupyter notebook to Assignment5_*netid*.ipynb (Assignment5_xyz01.ipynb) and upload it on Moodle no later than Friday, Dec 1 11:55 pm."
   ]
  },
  {
   "cell_type": "code",
   "execution_count": null,
   "metadata": {
    "collapsed": true
   },
   "outputs": [],
   "source": []
  }
 ],
 "metadata": {
  "kernelspec": {
   "display_name": "Python 3",
   "language": "python",
   "name": "python3"
  },
  "language_info": {
   "codemirror_mode": {
    "name": "ipython",
    "version": 3
   },
   "file_extension": ".py",
   "mimetype": "text/x-python",
   "name": "python",
   "nbconvert_exporter": "python",
   "pygments_lexer": "ipython3",
   "version": "3.6.1"
  }
 },
 "nbformat": 4,
 "nbformat_minor": 2
}
