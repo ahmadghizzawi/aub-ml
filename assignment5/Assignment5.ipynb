{
 "cells": [
  {
   "cell_type": "markdown",
   "metadata": {},
   "source": [
    "# Assignment 5"
   ]
  },
  {
   "cell_type": "markdown",
   "metadata": {},
   "source": [
    "In this assignment, you will build a multi-class neural network classifier for text classification. You will first need to import the libraries. Then you will need to pre-process your data by removing stop words and stemming. After cleaning the data, you will download a pretrained word embedding and use the embedding to give each word a vector. The vectors will be the features of your classifier. You will split your data into training (80%) and validation (20%). Then, you will train your neural network and find the best model using random search.\n",
    "\n",
    "N.B: You will have to use tensorflow (version 1.4) library.\n",
    "\n",
    "(Hint: check tf.keras)"
   ]
  },
  {
   "cell_type": "markdown",
   "metadata": {},
   "source": [
    "## Import Libraries"
   ]
  },
  {
   "cell_type": "code",
   "execution_count": 21,
   "metadata": {},
   "outputs": [],
   "source": [
    "import pandas as pd\n",
    "import numpy as np\n",
    "import matplotlib.pyplot as plt\n",
    "import string\n",
    "import re\n",
    "import nltk\n",
    "from nltk.corpus import stopwords\n",
    "from nltk.tokenize import word_tokenize\n",
    "from nltk.stem.snowball import SnowballStemmer\n",
    "import pickle\n",
    "import itertools\n",
    "from keras.layers import Embedding\n",
    "from keras.preprocessing.text import Tokenizer\n",
    "from keras.preprocessing.sequence import pad_sequences\n",
    "from keras.models import Sequential\n",
    "from keras.layers import Dense\n",
    "from keras.layers import Flatten\n",
    "from keras.layers.embeddings import Embedding\n",
    "from sklearn.model_selection import train_test_split\n",
    "from sklearn.preprocessing import LabelBinarizer"
   ]
  },
  {
   "cell_type": "markdown",
   "metadata": {},
   "source": [
    "## Load Data"
   ]
  },
  {
   "cell_type": "code",
   "execution_count": 22,
   "metadata": {
    "collapsed": true
   },
   "outputs": [],
   "source": [
    "'''implement your code'''\n",
    "dataset = pd.read_csv('Tweets.csv', encoding ='latin1').values\n",
    "X, y = dataset[:, 1], dataset[:, 0]"
   ]
  },
  {
   "cell_type": "markdown",
   "metadata": {},
   "source": [
    "## Clean Data"
   ]
  },
  {
   "cell_type": "markdown",
   "metadata": {},
   "source": [
    " Pre-process your data by removing stop words and perform stemming."
   ]
  },
  {
   "cell_type": "code",
   "execution_count": 23,
   "metadata": {},
   "outputs": [
    {
     "name": "stdout",
     "output_type": "stream",
     "text": [
      "['virginamerica dhepburn said'\n",
      " 'virginamerica plus ve ad commerci experi tacki'\n",
      " 'virginamerica nt today must mean need take anoth trip' ...,\n",
      " 'americanair pleas bring american airlin blackberry10'\n",
      " 'americanair money chang flight nt answer phone suggest make commit'\n",
      " 'americanair 8 ppl need 2 know mani seat next flight plz put us standbi 4 peopl next flight']\n"
     ]
    }
   ],
   "source": [
    "##### CLEAN HERE\n",
    "# Remove urls, handles, and pu\n",
    "def remove_urls_handles_punc(X):\n",
    "    new_tweets = []\n",
    "    for tweet in X:\n",
    "        new_tweet = ' '.join(re.sub(\"(@[A-Za-z0-9]+)|([^0-9A-Za-z \\t])|(\\w+:\\/\\/\\S+)\",\" \", tweet).split())\n",
    "        new_tweets.append(new_tweet)\n",
    "    return new_tweets\n",
    "\n",
    "def tokenize(X):\n",
    "    return [word_tokenize(document) for document in X]\n",
    "\n",
    "def remove_punc_stopwords_stem(X):\n",
    "     #see documentation here: http://docs.python.org/2/library/string.html\n",
    "    regex = re.compile('[%s]' % re.escape(string.punctuation))\n",
    "    X_cleaned_stemmed = []\n",
    "    \n",
    "    for tweet in X:\n",
    "        new_tweet = []\n",
    "        for token in tweet: \n",
    "            new_token = regex.sub(u'', token)\n",
    "            ## check if token is neither a punctutation or stopword.\n",
    "            if not new_token == u'' and not token.lower() in stopwords.words('english'):\n",
    "                new_token = SnowballStemmer(\"english\").stem(new_token)\n",
    "                new_tweet.append(new_token)\n",
    "        X_cleaned_stemmed.append(new_tweet)\n",
    "    return X_cleaned_stemmed\n",
    "\n",
    "def words_list_to_string(X):\n",
    "    return np.array([[' '.join(word for word in document)] for document in X]).flatten()\n",
    "\n",
    "def preprocess(X):\n",
    "#     X = remove_urls_handles_punc(X)\n",
    "    \n",
    "    X = tokenize(X)\n",
    "    \n",
    "    X = remove_punc_stopwords_stem(X)\n",
    "\n",
    "    X = words_list_to_string(X)\n",
    "    \n",
    "    return X\n",
    "\n",
    "X = preprocess(X)\n",
    "\n",
    "print(X)"
   ]
  },
  {
   "cell_type": "markdown",
   "metadata": {},
   "source": [
    "## Binarize Labels"
   ]
  },
  {
   "cell_type": "code",
   "execution_count": 24,
   "metadata": {
    "scrolled": true
   },
   "outputs": [
    {
     "name": "stdout",
     "output_type": "stream",
     "text": [
      "[[0 1 0]\n",
      " [0 0 1]\n",
      " [0 1 0]\n",
      " ..., \n",
      " [0 1 0]\n",
      " [1 0 0]\n",
      " [0 1 0]]\n"
     ]
    }
   ],
   "source": [
    "encoder = LabelBinarizer()\n",
    "y = encoder.fit_transform(y)\n",
    "print(y)"
   ]
  },
  {
   "cell_type": "markdown",
   "metadata": {},
   "source": [
    "## Word Embedding"
   ]
  },
  {
   "cell_type": "markdown",
   "metadata": {},
   "source": [
    "Download the word embedding from this link http://nlp.stanford.edu/data/glove.twitter.27B.zip and create the embedding matrix to be used in the embedding layer. You have to use the embedding file of dimension 50."
   ]
  },
  {
   "cell_type": "code",
   "execution_count": 25,
   "metadata": {
    "collapsed": true
   },
   "outputs": [],
   "source": [
    "# prepare tokenizer\n",
    "t = Tokenizer()\n",
    "t.fit_on_texts(X)\n",
    "\n",
    "vocab_size = len(t.word_index) + 1\n",
    "\n",
    "# integer encode the documents\n",
    "encoded_docs = t.texts_to_sequences(X)\n",
    "\n",
    "# pad documents to a max length of 4 words\n",
    "max_length = 200\n",
    "X = pad_sequences(encoded_docs, maxlen=max_length, padding='post')\n",
    "\n",
    "# load the whole embedding into memory\n",
    "embeddings_index = dict()\n",
    "f = open('glove.twitter.27B.50d.txt')\n",
    "for line in f:\n",
    "    values = line.split()\n",
    "    word = values[0]\n",
    "    coefs = np.asarray(values[1:], dtype='float32')\n",
    "    embeddings_index[word] = coefs\n",
    "f.close()\n",
    "\n",
    "# create a weight matrix for words in training docs\n",
    "embedding_matrix = np.zeros((vocab_size, 50))\n",
    "for word, i in t.word_index.items():\n",
    "    embedding_vector = embeddings_index.get(word)\n",
    "    if embedding_vector is not None:\n",
    "        embedding_matrix[i] = embedding_vector\n",
    "\n",
    "e = Embedding(vocab_size, 50, weights=[embedding_matrix], input_length=200, trainable=False)"
   ]
  },
  {
   "cell_type": "markdown",
   "metadata": {},
   "source": [
    "## Split Data"
   ]
  },
  {
   "cell_type": "markdown",
   "metadata": {},
   "source": [
    "Split your data into training (80%) and validation (20%)."
   ]
  },
  {
   "cell_type": "code",
   "execution_count": 26,
   "metadata": {},
   "outputs": [
    {
     "name": "stdout",
     "output_type": "stream",
     "text": [
      "(11712, 200)\n"
     ]
    }
   ],
   "source": [
    "X_train, X_validate, y_train, y_validate = train_test_split(X, y, test_size=0.20)\n",
    "\n",
    "print(X_train.shape)"
   ]
  },
  {
   "cell_type": "markdown",
   "metadata": {},
   "source": [
    "## Exercise 1"
   ]
  },
  {
   "cell_type": "markdown",
   "metadata": {},
   "source": [
    "You will train a neural network for 100 epochs with a batch size of 32 without doing any hyperameters tuning.\n",
    "\n",
    "The architecture should be as follow:\n",
    "- One embedding layer ( You don't need to retrain the embeddings. You have to use the pretrained embeddings)\n",
    "- One hidden layer with 50 units\n",
    "- One output layer\n",
    "- The activation of the hidden layer is a Relu\n",
    "- The activation of the output layer is a Softmax\n",
    "- The loss function is a categorical cross-entropy funtion\n",
    "- The optimizer of this model is RMSProp"
   ]
  },
  {
   "cell_type": "markdown",
   "metadata": {},
   "source": [
    "### Create Model"
   ]
  },
  {
   "cell_type": "markdown",
   "metadata": {},
   "source": [
    "Create the above neural network architecture."
   ]
  },
  {
   "cell_type": "code",
   "execution_count": null,
   "metadata": {},
   "outputs": [
    {
     "name": "stdout",
     "output_type": "stream",
     "text": [
      "_________________________________________________________________\n",
      "Layer (type)                 Output Shape              Param #   \n",
      "=================================================================\n",
      "embedding_3 (Embedding)      (None, 200, 50)           685000    \n",
      "_________________________________________________________________\n",
      "flatten_3 (Flatten)          (None, 10000)             0         \n",
      "_________________________________________________________________\n",
      "dense_5 (Dense)              (None, 50)                500050    \n",
      "_________________________________________________________________\n",
      "dense_6 (Dense)              (None, 3)                 153       \n",
      "=================================================================\n",
      "Total params: 1,185,203\n",
      "Trainable params: 500,203\n",
      "Non-trainable params: 685,000\n",
      "_________________________________________________________________\n",
      "None\n"
     ]
    }
   ],
   "source": [
    "# define model\n",
    "model = Sequential()\n",
    "\n",
    "# add embedding layer\n",
    "model.add(e)\n",
    "\n",
    "# flatten the embedding layer into 1d\n",
    "model.add(Flatten())\n",
    "\n",
    "# add one hidden layer with 50 units\n",
    "model.add(Dense(50, activation='relu'))\n",
    "\n",
    "# add softmax output layer with 3 outputs\n",
    "model.add(Dense(3, activation='softmax'))\n",
    "\n",
    "# compile the model\n",
    "model.compile(optimizer='rmsprop', loss='categorical_crossentropy', metrics=['acc'])\n",
    "\n",
    "# summarize the model\n",
    "print(model.summary())"
   ]
  },
  {
   "cell_type": "markdown",
   "metadata": {},
   "source": [
    "### Training"
   ]
  },
  {
   "cell_type": "markdown",
   "metadata": {},
   "source": [
    "Train your model on the training dataset."
   ]
  },
  {
   "cell_type": "code",
   "execution_count": null,
   "metadata": {},
   "outputs": [
    {
     "name": "stdout",
     "output_type": "stream",
     "text": [
      "Epoch 1/100\n",
      "11712/11712 [==============================] - 2s - loss: 0.6990 - acc: 0.7176     \n",
      "Epoch 2/100\n",
      "11712/11712 [==============================] - 2s - loss: 0.6026 - acc: 0.7533     \n",
      "Epoch 3/100\n",
      "11712/11712 [==============================] - 2s - loss: 0.5437 - acc: 0.7789     \n",
      "Epoch 4/100\n",
      "11712/11712 [==============================] - 2s - loss: 0.4877 - acc: 0.8064     \n",
      "Epoch 5/100\n",
      "11712/11712 [==============================] - 2s - loss: 0.4303 - acc: 0.8353     \n",
      "Epoch 6/100\n",
      "11712/11712 [==============================] - 2s - loss: 0.3766 - acc: 0.8574     \n",
      "Epoch 7/100\n",
      "11712/11712 [==============================] - 2s - loss: 0.3248 - acc: 0.8805     \n",
      "Epoch 8/100\n",
      "11712/11712 [==============================] - 2s - loss: 0.2796 - acc: 0.9035     \n",
      "Epoch 9/100\n",
      "11712/11712 [==============================] - 2s - loss: 0.2394 - acc: 0.9161     \n",
      "Epoch 10/100\n",
      "11712/11712 [==============================] - 2s - loss: 0.2030 - acc: 0.9339     \n",
      "Epoch 11/100\n",
      "11712/11712 [==============================] - 2s - loss: 0.1739 - acc: 0.9447     \n",
      "Epoch 12/100\n",
      "11712/11712 [==============================] - 2s - loss: 0.1477 - acc: 0.9536     \n",
      "Epoch 13/100\n",
      "11712/11712 [==============================] - 2s - loss: 0.1274 - acc: 0.9620     \n",
      "Epoch 14/100\n",
      "11712/11712 [==============================] - 2s - loss: 0.1113 - acc: 0.9679     \n",
      "Epoch 15/100\n",
      "11712/11712 [==============================] - 2s - loss: 0.0969 - acc: 0.9728     \n",
      "Epoch 16/100\n",
      "11712/11712 [==============================] - 2s - loss: 0.0861 - acc: 0.9773     \n",
      "Epoch 17/100\n",
      "11712/11712 [==============================] - 2s - loss: 0.0747 - acc: 0.9804     \n",
      "Epoch 18/100\n",
      "11712/11712 [==============================] - 2s - loss: 0.0685 - acc: 0.9820     \n",
      "Epoch 19/100\n",
      "11712/11712 [==============================] - 2s - loss: 0.0621 - acc: 0.9845     \n",
      "Epoch 20/100\n",
      "11712/11712 [==============================] - 2s - loss: 0.0572 - acc: 0.9851     \n",
      "Epoch 21/100\n",
      "11712/11712 [==============================] - 2s - loss: 0.0516 - acc: 0.9863     \n",
      "Epoch 22/100\n",
      "11712/11712 [==============================] - 2s - loss: 0.0494 - acc: 0.9874     \n",
      "Epoch 23/100\n",
      "11712/11712 [==============================] - 2s - loss: 0.0461 - acc: 0.9886     \n",
      "Epoch 24/100\n",
      "11712/11712 [==============================] - 2s - loss: 0.0433 - acc: 0.9891     \n",
      "Epoch 25/100\n",
      "11712/11712 [==============================] - 2s - loss: 0.0414 - acc: 0.9895     \n",
      "Epoch 26/100\n",
      "11712/11712 [==============================] - 2s - loss: 0.0401 - acc: 0.9904     \n",
      "Epoch 27/100\n",
      "11712/11712 [==============================] - 2s - loss: 0.0380 - acc: 0.9902     \n",
      "Epoch 28/100\n",
      "11712/11712 [==============================] - 2s - loss: 0.0383 - acc: 0.9902     \n",
      "Epoch 29/100\n",
      "11712/11712 [==============================] - 3s - loss: 0.0372 - acc: 0.9904     \n",
      "Epoch 30/100\n",
      "11712/11712 [==============================] - 2s - loss: 0.0357 - acc: 0.9907     \n",
      "Epoch 31/100\n",
      "11712/11712 [==============================] - 2s - loss: 0.0359 - acc: 0.9916     \n",
      "Epoch 32/100\n",
      "11712/11712 [==============================] - 2s - loss: 0.0352 - acc: 0.9912     \n",
      "Epoch 33/100\n",
      "11712/11712 [==============================] - 2s - loss: 0.0352 - acc: 0.9906     \n",
      "Epoch 34/100\n",
      "11712/11712 [==============================] - 2s - loss: 0.0335 - acc: 0.9912     \n",
      "Epoch 35/100\n",
      "11712/11712 [==============================] - 2s - loss: 0.0323 - acc: 0.9915     \n",
      "Epoch 36/100\n",
      "11712/11712 [==============================] - 2s - loss: 0.0344 - acc: 0.9919     \n",
      "Epoch 37/100\n",
      "11712/11712 [==============================] - 3s - loss: 0.0323 - acc: 0.9920     \n",
      "Epoch 38/100\n",
      "11712/11712 [==============================] - 2s - loss: 0.0339 - acc: 0.9918     \n",
      "Epoch 39/100\n",
      "11712/11712 [==============================] - 2s - loss: 0.0329 - acc: 0.9924     \n",
      "Epoch 40/100\n",
      "11712/11712 [==============================] - 2s - loss: 0.0313 - acc: 0.9918     \n",
      "Epoch 41/100\n",
      "11712/11712 [==============================] - 2s - loss: 0.0344 - acc: 0.9916     \n",
      "Epoch 42/100\n",
      "11712/11712 [==============================] - 2s - loss: 0.0318 - acc: 0.9919     \n",
      "Epoch 43/100\n",
      "11712/11712 [==============================] - 2s - loss: 0.0323 - acc: 0.9921     \n",
      "Epoch 44/100\n",
      "11712/11712 [==============================] - ETA: 0s - loss: 0.0341 - acc: 0.992 - 2s - loss: 0.0338 - acc: 0.9923     \n",
      "Epoch 45/100\n",
      "11712/11712 [==============================] - 2s - loss: 0.0333 - acc: 0.9919     \n",
      "Epoch 46/100\n",
      "11712/11712 [==============================] - 2s - loss: 0.0321 - acc: 0.9921     \n",
      "Epoch 47/100\n",
      "11712/11712 [==============================] - 2s - loss: 0.0328 - acc: 0.9927     \n",
      "Epoch 48/100\n",
      "11712/11712 [==============================] - 2s - loss: 0.0347 - acc: 0.9919     \n",
      "Epoch 49/100\n",
      "11712/11712 [==============================] - 2s - loss: 0.0338 - acc: 0.9921     \n",
      "Epoch 50/100\n",
      "11712/11712 [==============================] - 2s - loss: 0.0330 - acc: 0.9920     \n",
      "Epoch 51/100\n",
      "11712/11712 [==============================] - 2s - loss: 0.0320 - acc: 0.9920     \n",
      "Epoch 52/100\n",
      "11712/11712 [==============================] - 2s - loss: 0.0335 - acc: 0.9921     \n",
      "Epoch 53/100\n",
      "11712/11712 [==============================] - 2s - loss: 0.0338 - acc: 0.9927     \n",
      "Epoch 54/100\n",
      "11712/11712 [==============================] - 2s - loss: 0.0346 - acc: 0.9921     \n",
      "Epoch 55/100\n",
      "11712/11712 [==============================] - 2s - loss: 0.0336 - acc: 0.9918     \n",
      "Epoch 56/100\n",
      "11712/11712 [==============================] - 2s - loss: 0.0317 - acc: 0.9925     \n",
      "Epoch 57/100\n",
      "11712/11712 [==============================] - 2s - loss: 0.0328 - acc: 0.9924     \n",
      "Epoch 58/100\n",
      "11712/11712 [==============================] - 2s - loss: 0.0345 - acc: 0.9927     \n",
      "Epoch 59/100\n",
      "11712/11712 [==============================] - 2s - loss: 0.0333 - acc: 0.9927     \n",
      "Epoch 60/100\n",
      "11712/11712 [==============================] - 2s - loss: 0.0332 - acc: 0.9923     \n",
      "Epoch 61/100\n",
      "11712/11712 [==============================] - 2s - loss: 0.0343 - acc: 0.9924     \n",
      "Epoch 62/100\n",
      "11712/11712 [==============================] - 2s - loss: 0.0322 - acc: 0.9922     \n",
      "Epoch 63/100\n",
      "11712/11712 [==============================] - 2s - loss: 0.0347 - acc: 0.9923     \n",
      "Epoch 64/100\n",
      "11712/11712 [==============================] - 2s - loss: 0.0334 - acc: 0.9924     \n",
      "Epoch 65/100\n",
      "11712/11712 [==============================] - 2s - loss: 0.0324 - acc: 0.9925     \n",
      "Epoch 66/100\n",
      "11712/11712 [==============================] - 2s - loss: 0.0323 - acc: 0.9925     \n",
      "Epoch 67/100\n",
      "11712/11712 [==============================] - 2s - loss: 0.0345 - acc: 0.9930     \n",
      "Epoch 68/100\n",
      "11712/11712 [==============================] - 2s - loss: 0.0335 - acc: 0.9926     \n",
      "Epoch 69/100\n",
      "11712/11712 [==============================] - 2s - loss: 0.0335 - acc: 0.9922     \n",
      "Epoch 70/100\n",
      "11712/11712 [==============================] - 2s - loss: 0.0327 - acc: 0.9927     \n",
      "Epoch 71/100\n",
      "11712/11712 [==============================] - 2s - loss: 0.0316 - acc: 0.9927     \n",
      "Epoch 72/100\n",
      "11712/11712 [==============================] - 2s - loss: 0.0349 - acc: 0.9919     \n",
      "Epoch 73/100\n",
      "11712/11712 [==============================] - 2s - loss: 0.0350 - acc: 0.9925     \n",
      "Epoch 74/100\n",
      "11712/11712 [==============================] - 2s - loss: 0.0349 - acc: 0.9926     \n",
      "Epoch 75/100\n",
      "11712/11712 [==============================] - 2s - loss: 0.0346 - acc: 0.9924     \n",
      "Epoch 76/100\n",
      "11712/11712 [==============================] - 2s - loss: 0.0322 - acc: 0.9923     \n",
      "Epoch 77/100\n",
      "11712/11712 [==============================] - 2s - loss: 0.0352 - acc: 0.9923     \n",
      "Epoch 78/100\n",
      "11712/11712 [==============================] - 2s - loss: 0.0333 - acc: 0.9925     \n",
      "Epoch 79/100\n",
      "11712/11712 [==============================] - 2s - loss: 0.0335 - acc: 0.9921     \n",
      "Epoch 80/100\n",
      "11712/11712 [==============================] - 2s - loss: 0.0327 - acc: 0.9922     \n",
      "Epoch 81/100\n",
      "11712/11712 [==============================] - 2s - loss: 0.0337 - acc: 0.9922     \n",
      "Epoch 82/100\n",
      "11712/11712 [==============================] - 2s - loss: 0.0336 - acc: 0.9923     \n",
      "Epoch 83/100\n",
      "11712/11712 [==============================] - 2s - loss: 0.0320 - acc: 0.9926     \n",
      "Epoch 84/100\n",
      "11712/11712 [==============================] - 2s - loss: 0.0338 - acc: 0.9923     \n",
      "Epoch 85/100\n"
     ]
    },
    {
     "name": "stdout",
     "output_type": "stream",
     "text": [
      "11712/11712 [==============================] - 2s - loss: 0.0343 - acc: 0.9919     \n",
      "Epoch 86/100\n",
      "11712/11712 [==============================] - 2s - loss: 0.0330 - acc: 0.9925     \n",
      "Epoch 87/100\n",
      "11712/11712 [==============================] - 2s - loss: 0.0336 - acc: 0.9924     \n",
      "Epoch 88/100\n",
      " 3680/11712 [========>.....................] - ETA: 1s - loss: 0.0374 - acc: 0.9908"
     ]
    }
   ],
   "source": [
    "# fit the model\n",
    "model.fit(X_train, y_train, epochs=100, batch_size=32)"
   ]
  },
  {
   "cell_type": "markdown",
   "metadata": {},
   "source": [
    "### Testing"
   ]
  },
  {
   "cell_type": "markdown",
   "metadata": {},
   "source": [
    "Test your model on the validation and compute the F-measure and accuracy."
   ]
  },
  {
   "cell_type": "code",
   "execution_count": null,
   "metadata": {},
   "outputs": [],
   "source": [
    "# evaluate the model\n",
    "loss, accuracy = model.evaluate(X_validate, y_validate, verbose=0)\n",
    "\n",
    "print('Accuracy: %f' % (accuracy * 100))"
   ]
  },
  {
   "cell_type": "markdown",
   "metadata": {},
   "source": [
    "## Exercise 2"
   ]
  },
  {
   "cell_type": "markdown",
   "metadata": {},
   "source": [
    "### Random Search"
   ]
  },
  {
   "cell_type": "markdown",
   "metadata": {},
   "source": [
    "Write the random search function. You will use the random search method in exercise 3 to find the best hyperparameters."
   ]
  },
  {
   "cell_type": "code",
   "execution_count": null,
   "metadata": {
    "collapsed": true
   },
   "outputs": [],
   "source": [
    "'''implement your code'''"
   ]
  },
  {
   "cell_type": "markdown",
   "metadata": {},
   "source": [
    "## Exercise 3"
   ]
  },
  {
   "cell_type": "markdown",
   "metadata": {},
   "source": [
    "### Hyperparameters Tuning"
   ]
  },
  {
   "cell_type": "markdown",
   "metadata": {},
   "source": [
    "You will tune the hyperparameters of the above architecture using random search by validating on the validation dataset.\n",
    "\n",
    "Plot the learning curve of the best model (loss versus number\n",
    "of epochs). You should show both the training loss and the validation loss.\n",
    "\n",
    "You should also report the values of the hyperparameters of your best model and the validation accuracy and F-measure.  \n",
    "\n",
    "The hyperparameters that need to be tuned are:\n",
    "- Learning rates\n",
    "- Dropout\n",
    "- Number of hidden units\n",
    "- Mini-batch size\n",
    "- Learning rate decay\n",
    "- Number of layers ( This part should be done manually. You can't do this using random search)"
   ]
  },
  {
   "cell_type": "code",
   "execution_count": null,
   "metadata": {
    "collapsed": true
   },
   "outputs": [],
   "source": [
    "'''implement your code'''"
   ]
  },
  {
   "cell_type": "markdown",
   "metadata": {
    "collapsed": true
   },
   "source": [
    "### Save Model"
   ]
  },
  {
   "cell_type": "markdown",
   "metadata": {},
   "source": [
    "Save your best model"
   ]
  },
  {
   "cell_type": "code",
   "execution_count": null,
   "metadata": {
    "collapsed": true
   },
   "outputs": [],
   "source": [
    "'''implement your code'''"
   ]
  },
  {
   "cell_type": "markdown",
   "metadata": {},
   "source": [
    "Rename the jupyter notebook to Assignment5_*netid*.ipynb (Assignment5_xyz01.ipynb) and upload it on Moodle no later than Friday, Dec 1 11:55 pm."
   ]
  },
  {
   "cell_type": "code",
   "execution_count": null,
   "metadata": {
    "collapsed": true
   },
   "outputs": [],
   "source": []
  }
 ],
 "metadata": {
  "kernelspec": {
   "display_name": "Python 3",
   "language": "python",
   "name": "python3"
  },
  "language_info": {
   "codemirror_mode": {
    "name": "ipython",
    "version": 3
   },
   "file_extension": ".py",
   "mimetype": "text/x-python",
   "name": "python",
   "nbconvert_exporter": "python",
   "pygments_lexer": "ipython3",
   "version": "3.6.1"
  }
 },
 "nbformat": 4,
 "nbformat_minor": 2
}
